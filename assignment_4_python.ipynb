{
  "nbformat": 4,
  "nbformat_minor": 0,
  "metadata": {
    "colab": {
      "name": "assignment-4 python",
      "provenance": [],
      "authorship_tag": "ABX9TyNBk368upcktIdfPuBFylUq",
      "include_colab_link": true
    },
    "kernelspec": {
      "name": "python3",
      "display_name": "Python 3"
    }
  },
  "cells": [
    {
      "cell_type": "markdown",
      "metadata": {
        "id": "view-in-github",
        "colab_type": "text"
      },
      "source": [
        "<a href=\"https://colab.research.google.com/github/varshitha89/Assignment_4/blob/master/assignment_4_python.ipynb\" target=\"_parent\"><img src=\"https://colab.research.google.com/assets/colab-badge.svg\" alt=\"Open In Colab\"/></a>"
      ]
    },
    {
      "cell_type": "code",
      "metadata": {
        "id": "nv8q8jYJ_jzS",
        "colab_type": "code",
        "colab": {
          "base_uri": "https://localhost:8080/",
          "height": 34
        },
        "outputId": "62d8818e-57f2-47c9-a353-9bbae403ff03"
      },
      "source": [
        "#To find the max of three numbers\n",
        "a=20\n",
        "b=30\n",
        "c=70\n",
        "def maximum(a,b,c):\n",
        "  if(a>=b)and(a>=c):\n",
        "    maximum=a\n",
        "  elif(b>=a)and(b>=c):\n",
        "    maximum=b\n",
        "  else:\n",
        "    maximum=c\n",
        "\n",
        "  return maximum\n",
        "print(maximum(a,b,c))"
      ],
      "execution_count": null,
      "outputs": [
        {
          "output_type": "stream",
          "text": [
            "70\n"
          ],
          "name": "stdout"
        }
      ]
    },
    {
      "cell_type": "code",
      "metadata": {
        "id": "V-09uWdcAOxD",
        "colab_type": "code",
        "colab": {
          "base_uri": "https://localhost:8080/",
          "height": 34
        },
        "outputId": "2ac8fb1f-fd14-451d-f40f-53bda23c9d89"
      },
      "source": [
        "#To check weather the number is in a given range\n",
        "def input(n):\n",
        "  if n in range(4,8):\n",
        "    print(\"number is in given range \",n)\n",
        "  else:\n",
        "    print(\"number is not in the given range\")\n",
        "input(7)"
      ],
      "execution_count": null,
      "outputs": [
        {
          "output_type": "stream",
          "text": [
            "number is in given range  7\n"
          ],
          "name": "stdout"
        }
      ]
    },
    {
      "cell_type": "code",
      "metadata": {
        "id": "tGtDLtRbT_nC",
        "colab_type": "code",
        "colab": {
          "base_uri": "https://localhost:8080/",
          "height": 34
        },
        "outputId": "e965fab0-5835-43a5-e564-d1ddec1a5045"
      },
      "source": [
        "# factorial \n",
        "def fact(num):\n",
        "  if(num==1):\n",
        "    return 1\n",
        "  else:\n",
        "      return num*fact(num-1)\n",
        "num=7\n",
        "print(\"factorial of \",num,\"is\",fact(num))"
      ],
      "execution_count": 21,
      "outputs": [
        {
          "output_type": "stream",
          "text": [
            "factorial of  7 is 5040\n"
          ],
          "name": "stdout"
        }
      ]
    },
    {
      "cell_type": "code",
      "metadata": {
        "id": "xARQt22Oblzt",
        "colab_type": "code",
        "colab": {}
      },
      "source": [
        ""
      ],
      "execution_count": 14,
      "outputs": []
    }
  ]
}